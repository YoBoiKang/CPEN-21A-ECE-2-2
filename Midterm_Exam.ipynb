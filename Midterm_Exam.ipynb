{
  "nbformat": 4,
  "nbformat_minor": 0,
  "metadata": {
    "colab": {
      "name": "Midterm Exam.ipynb",
      "provenance": [],
      "authorship_tag": "ABX9TyPga29oraqTvLSgTIAxjJ+9",
      "include_colab_link": true
    },
    "kernelspec": {
      "name": "python3",
      "display_name": "Python 3"
    },
    "language_info": {
      "name": "python"
    }
  },
  "cells": [
    {
      "cell_type": "markdown",
      "metadata": {
        "id": "view-in-github",
        "colab_type": "text"
      },
      "source": [
        "<a href=\"https://colab.research.google.com/github/YoBoiKang/CPEN-21A-ECE-2-2/blob/main/Midterm_Exam.ipynb\" target=\"_parent\"><img src=\"https://colab.research.google.com/assets/colab-badge.svg\" alt=\"Open In Colab\"/></a>"
      ]
    },
    {
      "cell_type": "code",
      "metadata": {
        "id": "EWYAs8uRrysL"
      },
      "source": [
        ""
      ],
      "execution_count": null,
      "outputs": []
    },
    {
      "cell_type": "markdown",
      "metadata": {
        "id": "OyYR28jts4Oj"
      },
      "source": [
        "##**Midterm Examination**"
      ]
    },
    {
      "cell_type": "markdown",
      "metadata": {
        "id": "MHLEkO_iuhz6"
      },
      "source": [
        "###**Problem Statement I**\n"
      ]
    },
    {
      "cell_type": "code",
      "metadata": {
        "colab": {
          "base_uri": "https://localhost:8080/"
        },
        "id": "WeyF0Ep50r8v",
        "outputId": "4e826130-0e67-41e2-cd8a-b5f0473d2be8"
      },
      "source": [
        "def personal_details():\n",
        "    name = \"Vince Floyd A. Gamat\"\n",
        "    sn = \"202015132\"\n",
        "    age = \"219\"\n",
        "    birthdate = \"08/08/2002\"\n",
        "    address = \"143 Arigo Subdivision, Batong Dalig Kawit, Cavite\"\n",
        "    course = \"BS ECE\"\n",
        "    gwa = \"1.57\"\n",
        "    print(\"Name: {}\\nSn: {}\\nAge: {}\\nBirthdate {}\\nAddress {}\\nCourse {}\\nGwa {}\".format(name, sn, age, birthdate, address, course, gwa))\n",
        "\n",
        "personal_details()"
      ],
      "execution_count": 18,
      "outputs": [
        {
          "output_type": "stream",
          "name": "stdout",
          "text": [
            "Name: Vince Floyd A. Gamat\n",
            "Sn: 202015132\n",
            "Age: 219\n",
            "Birthdate 08/08/2002\n",
            "Address 143 Arigo Subdivision, Batong Dalig Kawit, Cavite\n",
            "Course BS ECE\n",
            "Gwa 1.57\n"
          ]
        }
      ]
    },
    {
      "cell_type": "markdown",
      "metadata": {
        "id": "F61LOSV7uvGt"
      },
      "source": [
        "###**Problem Statement II**"
      ]
    },
    {
      "cell_type": "code",
      "metadata": {
        "colab": {
          "base_uri": "https://localhost:8080/"
        },
        "id": "_lWSCGEc34x6",
        "outputId": "111ac988-55b9-4ab6-dc04-70445e8b0974"
      },
      "source": [
        "n = 4\n",
        "answ = \"Y\"\n",
        "\n",
        "print(2<n and n<6)\n",
        "print(2<n or n==6)\n",
        "print(not 2<n or n==6)\n",
        "print(not n<6)\n",
        "print(answ==\"Y\" or answ==\"y\")\n",
        "print(answ==\"Y\" and answ==\"y\")\n",
        "print(not answ==\"y\")\n",
        "print((2<n and n==5+1) or answ==\"No\")\n",
        "print((n==2 and n==7) or answ==\"Y\")\n",
        "print(n==2 and (n==7 or answ==\"Y\"))"
      ],
      "execution_count": 21,
      "outputs": [
        {
          "output_type": "stream",
          "name": "stdout",
          "text": [
            "True\n",
            "True\n",
            "False\n",
            "False\n",
            "True\n",
            "False\n",
            "True\n",
            "False\n",
            "True\n",
            "False\n"
          ]
        }
      ]
    },
    {
      "cell_type": "markdown",
      "metadata": {
        "id": "FZVOk52ay_Sp"
      },
      "source": [
        "###**Problem Statement III**"
      ]
    },
    {
      "cell_type": "code",
      "metadata": {
        "colab": {
          "base_uri": "https://localhost:8080/"
        },
        "id": "pDydAxWPzC-Y",
        "outputId": "9af4d3e5-9f94-40f4-c914-85f7421de6d1"
      },
      "source": [
        "x = 2\n",
        "y = -3\n",
        "w = 7\n",
        "z = -10\n",
        "\n",
        "print(x/y)\n",
        "print(w/y/x)\n",
        "print(z/y%x)\n",
        "print(x%-y*w)\n",
        "print( x % y)\n",
        "print( z % w - y / x * 5 + 5 ) \n",
        "print( 9 - x % ( 2 + y ))\n",
        "print( z // w)\n",
        "print((2+y)**2)\n",
        "print( w / x * 2)"
      ],
      "execution_count": 16,
      "outputs": [
        {
          "output_type": "stream",
          "name": "stdout",
          "text": [
            "-0.6666666666666666\n",
            "-1.1666666666666667\n",
            "1.3333333333333335\n",
            "14\n",
            "-1\n",
            "16.5\n",
            "9\n",
            "-2\n",
            "1\n",
            "7.0\n"
          ]
        }
      ]
    }
  ]
}